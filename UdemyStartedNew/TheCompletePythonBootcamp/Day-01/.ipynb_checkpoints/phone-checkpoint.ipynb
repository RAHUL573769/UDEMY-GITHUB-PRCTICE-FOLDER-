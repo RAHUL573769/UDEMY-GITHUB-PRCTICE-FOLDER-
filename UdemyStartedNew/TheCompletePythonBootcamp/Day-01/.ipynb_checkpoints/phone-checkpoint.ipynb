{
 "cells": [
  {
   "cell_type": "code",
   "execution_count": 1,
   "id": "cefed1a2-0d26-4725-836e-eabc696a47e1",
   "metadata": {},
   "outputs": [
    {
     "name": "stdout",
     "output_type": "stream",
     "text": [
      "<__main__.Phone object at 0x00000196B3814080>\n"
     ]
    }
   ],
   "source": [
    "class Phone:\n",
    "    price=1900\n",
    "    color=\"blue\"\n",
    "    brand=\"samsung\"\n",
    "my_phone=Phone()\n",
    "\n",
    "print(my_phone)"
   ]
  },
  {
   "cell_type": "code",
   "execution_count": 2,
   "id": "ce695138-0068-42d1-a4a1-aff647c4104c",
   "metadata": {},
   "outputs": [
    {
     "name": "stdout",
     "output_type": "stream",
     "text": [
      "samsung\n"
     ]
    }
   ],
   "source": [
    "print(my_phone.brand)"
   ]
  },
  {
   "cell_type": "code",
   "execution_count": 8,
   "id": "67702401-3fd7-4299-bf05-1f1d3567907d",
   "metadata": {},
   "outputs": [
    {
     "name": "stdout",
     "output_type": "stream",
     "text": [
      "['camaera', 'spraker', 'hammer']\n",
      "<bound method Phone1.call of <__main__.Phone1 object at 0x00000196B4660AA0>>\n",
      "sending Sms to:152 \n"
     ]
    }
   ],
   "source": [
    "\n",
    "\n",
    "\n",
    "\n",
    "class Phone1:\n",
    "    price=1200\n",
    "    color=\"blue\"\n",
    "    features=['camaera','spraker',\"hammer\"]\n",
    "    def call(self):\n",
    "        print(\"calling one person\")\n",
    "    def message(self,phone,sms):\n",
    "        text=f'sending Sms to:{phone} '\n",
    "        return text\n",
    "\n",
    "my_phone=Phone1()\n",
    "\n",
    "print(my_phone.features)\n",
    "print(my_phone.call)\n",
    "result=my_phone.message(152,\"I ove you\")\n",
    "print(result)"
   ]
  },
  {
   "cell_type": "code",
   "execution_count": 10,
   "id": "8b2780db-a195-4e68-9f81-c67e2d7b4b23",
   "metadata": {},
   "outputs": [],
   "source": [
    "class Phone:\n",
    "    manufature =\"China\"\n",
    "    def __init__(self,owner,brand,price):\n",
    "        self.owner=owner\n",
    "        self.price=price\n",
    "        self.brand=brand\n",
    "my_phone3=Phone(owner=\"Rahul\",price=123,brand=\"Opppo\")"
   ]
  },
  {
   "cell_type": "code",
   "execution_count": 11,
   "id": "06679054-a9bd-4d71-92e2-99cc7e06ce36",
   "metadata": {},
   "outputs": [
    {
     "name": "stdout",
     "output_type": "stream",
     "text": [
      "Opppo\n"
     ]
    }
   ],
   "source": [
    "print(my_phone3.brand)"
   ]
  },
  {
   "cell_type": "code",
   "execution_count": 12,
   "id": "39ca3e3c-c31d-40f8-b7c2-4fdad1fcaba4",
   "metadata": {},
   "outputs": [],
   "source": [
    "class Circle:\n",
    "    pie=3.1416 #class attribute\n",
    "    def __init__(self,radius):\n",
    "        self.radius=radius\n",
    "    def areaOfCircle(self):\n",
    "        return pie*(self.radius*2)\n",
    "        "
   ]
  },
  {
   "cell_type": "code",
   "execution_count": 13,
   "id": "1550b60c-8e2f-421c-a840-4fbd7bf47ea2",
   "metadata": {},
   "outputs": [],
   "source": [
    "result=Circle(123)"
   ]
  },
  {
   "cell_type": "code",
   "execution_count": 14,
   "id": "63fdfb55-d5de-42a3-a774-9061abfda55b",
   "metadata": {},
   "outputs": [
    {
     "name": "stdout",
     "output_type": "stream",
     "text": [
      "<bound method Circle.areaOfCircle of <__main__.Circle object at 0x00000196B42E4560>>\n"
     ]
    }
   ],
   "source": [
    "answer=result.areaOfCircle\n",
    "print(answer)"
   ]
  },
  {
   "cell_type": "code",
   "execution_count": 15,
   "id": "923180a2-b706-45ac-a0b6-068208329e25",
   "metadata": {},
   "outputs": [
    {
     "name": "stdout",
     "output_type": "stream",
     "text": [
      "['Shoes']\n"
     ]
    }
   ],
   "source": [
    "class Shop:\n",
    "    cart=[]\n",
    "    def __init__(self,buyer):\n",
    "        self.buyer=buyer\n",
    "    def add_to_cart(self,item):\n",
    "        self.cart.append(item)\n",
    "mehzabeen=Shop(\"mehzabeen\")\n",
    "mehzabeen.add_to_cart(\"Shoes\")\n",
    "print(mehzabeen.cart)"
   ]
  },
  {
   "cell_type": "code",
   "execution_count": 17,
   "id": "b81b2cdc-8da1-4f0d-a2bb-7b3fd94d1b25",
   "metadata": {},
   "outputs": [
    {
     "name": "stdout",
     "output_type": "stream",
     "text": [
      "['Shoes', 'Shoes', 'Shoes']\n"
     ]
    }
   ],
   "source": [
    "class Shop1:\n",
    "    def __init__(self,buyer):\n",
    "        self.buyer=buyer\n",
    "        self.cart=[]\n",
    "    def add_to_cart(self,item):\n",
    "        self.cart.append(item)\n",
    "mehzabeen1=Shop(\"mehzabeen\")\n",
    "mehzabeen1.add_to_cart(\"Shoes\")\n",
    "print(mehzabeen1.cart)"
   ]
  },
  {
   "cell_type": "code",
   "execution_count": null,
   "id": "c1cdfd0e-f73d-44c9-8f58-1627cfd0fbad",
   "metadata": {},
   "outputs": [],
   "source": []
  }
 ],
 "metadata": {
  "kernelspec": {
   "display_name": "Python 3 (ipykernel)",
   "language": "python",
   "name": "python3"
  },
  "language_info": {
   "codemirror_mode": {
    "name": "ipython",
    "version": 3
   },
   "file_extension": ".py",
   "mimetype": "text/x-python",
   "name": "python",
   "nbconvert_exporter": "python",
   "pygments_lexer": "ipython3",
   "version": "3.12.3"
  },
  "widgets": {
   "application/vnd.jupyter.widget-state+json": {
    "state": {},
    "version_major": 2,
    "version_minor": 0
   }
  }
 },
 "nbformat": 4,
 "nbformat_minor": 5
}
