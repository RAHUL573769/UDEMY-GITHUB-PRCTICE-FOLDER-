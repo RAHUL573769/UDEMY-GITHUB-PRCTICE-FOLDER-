{
 "cells": [
  {
   "cell_type": "code",
   "execution_count": 1,
   "id": "a15773be-12a2-484a-9980-f6513640e1a5",
   "metadata": {},
   "outputs": [],
   "source": [
    "my_list=[1,2,3]"
   ]
  },
  {
   "cell_type": "code",
   "execution_count": 2,
   "id": "4419d621-7821-4b03-8d43-653ae953754a",
   "metadata": {},
   "outputs": [],
   "source": [
    "my_list.append(3)"
   ]
  },
  {
   "cell_type": "code",
   "execution_count": 3,
   "id": "e24e925a-03fa-4705-b2e6-940d2aa91101",
   "metadata": {},
   "outputs": [
    {
     "name": "stdout",
     "output_type": "stream",
     "text": [
      "[1, 2, 3, 3]\n"
     ]
    }
   ],
   "source": [
    "print(my_list)"
   ]
  },
  {
   "cell_type": "code",
   "execution_count": 4,
   "id": "56380b65-9e8c-423b-aa46-38855870cb34",
   "metadata": {},
   "outputs": [],
   "source": [
    "my_list1=[1,1,[1,2]]"
   ]
  },
  {
   "cell_type": "code",
   "execution_count": 5,
   "id": "ca28baf3-c396-4f42-ac53-fbc7c3d190db",
   "metadata": {},
   "outputs": [
    {
     "name": "stdout",
     "output_type": "stream",
     "text": [
      "[1, 2]\n"
     ]
    }
   ],
   "source": [
    "print(my_list1[2])"
   ]
  },
  {
   "cell_type": "code",
   "execution_count": 6,
   "id": "eabdb323-1614-4395-b36e-53eb0a7f2de0",
   "metadata": {},
   "outputs": [
    {
     "ename": "NameError",
     "evalue": "name 'Dictionary' is not defined",
     "output_type": "error",
     "traceback": [
      "\u001b[31m---------------------------------------------------------------------------\u001b[39m",
      "\u001b[31mNameError\u001b[39m                                 Traceback (most recent call last)",
      "\u001b[36mCell\u001b[39m\u001b[36m \u001b[39m\u001b[32mIn[6]\u001b[39m\u001b[32m, line 1\u001b[39m\n\u001b[32m----> \u001b[39m\u001b[32m1\u001b[39m \u001b[43mDictionary\u001b[49m\n",
      "\u001b[31mNameError\u001b[39m: name 'Dictionary' is not defined"
     ]
    }
   ],
   "source": [
    "Dictionary"
   ]
  },
  {
   "cell_type": "code",
   "execution_count": 7,
   "id": "ebce18a8-a638-4c87-946e-2f530ba23b73",
   "metadata": {},
   "outputs": [],
   "source": [
    "my_dict={\"key1\":\"value\",\"key2\":\"value2\"}"
   ]
  },
  {
   "cell_type": "code",
   "execution_count": 8,
   "id": "8a2a646f-2a7b-4dec-8c36-91786c80d7dc",
   "metadata": {},
   "outputs": [
    {
     "data": {
      "text/plain": [
       "'value'"
      ]
     },
     "execution_count": 8,
     "metadata": {},
     "output_type": "execute_result"
    }
   ],
   "source": [
    "my_dict['key1']"
   ]
  },
  {
   "cell_type": "code",
   "execution_count": 9,
   "id": "9ae5d57c-7b27-43c8-b957-c9de106f695e",
   "metadata": {},
   "outputs": [],
   "source": [
    "price_lookup={\"apple\":\"123.354\",\"banaba\":\"245\"}"
   ]
  },
  {
   "cell_type": "code",
   "execution_count": 10,
   "id": "98eec590-8d09-4e89-a029-8fec8dfc5dd1",
   "metadata": {},
   "outputs": [
    {
     "name": "stdout",
     "output_type": "stream",
     "text": [
      "123.354\n"
     ]
    }
   ],
   "source": [
    "print(price_lookup['apple'])"
   ]
  },
  {
   "cell_type": "code",
   "execution_count": null,
   "id": "fa1564b8-ca80-4a92-b5b1-b68a3ffe9cb9",
   "metadata": {},
   "outputs": [],
   "source": []
  }
 ],
 "metadata": {
  "kernelspec": {
   "display_name": "Python 3 (ipykernel)",
   "language": "python",
   "name": "python3"
  },
  "language_info": {
   "codemirror_mode": {
    "name": "ipython",
    "version": 3
   },
   "file_extension": ".py",
   "mimetype": "text/x-python",
   "name": "python",
   "nbconvert_exporter": "python",
   "pygments_lexer": "ipython3",
   "version": "3.12.3"
  },
  "widgets": {
   "application/vnd.jupyter.widget-state+json": {
    "state": {},
    "version_major": 2,
    "version_minor": 0
   }
  }
 },
 "nbformat": 4,
 "nbformat_minor": 5
}
