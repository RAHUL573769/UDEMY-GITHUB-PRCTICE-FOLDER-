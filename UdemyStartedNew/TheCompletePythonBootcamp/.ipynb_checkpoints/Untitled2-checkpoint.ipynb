{
 "cells": [
  {
   "cell_type": "code",
   "execution_count": 4,
   "id": "dab5d87b-451b-4a70-8c80-e46010d774c0",
   "metadata": {},
   "outputs": [
    {
     "name": "stdout",
     "output_type": "stream",
     "text": [
      "Radfsw\n",
      "tata\n"
     ]
    }
   ],
   "source": [
    "class Dog:\n",
    "    species=\"mammal\"\n",
    "    def __init__(self,breed,name):\n",
    "        self.breed=breed\n",
    "        self.name=name\n",
    "        \n",
    "my_dog=Dog(\"Radfsw\",\"tata\")\n",
    "print(my_dog.breed)\n",
    "print(my_dog.name)"
   ]
  },
  {
   "cell_type": "code",
   "execution_count": 27,
   "id": "d11720f8-bb31-4566-9c44-65d55e700780",
   "metadata": {},
   "outputs": [],
   "source": [
    "class Dog:\n",
    "    species=\"mammal\"\n",
    "   \n",
    "       \n",
    "    def bark(self):\n",
    "        print(\"wooof\")\n",
    "        "
   ]
  },
  {
   "cell_type": "code",
   "execution_count": 28,
   "id": "30a12bde-de26-4cab-a98a-8bfd583688c7",
   "metadata": {},
   "outputs": [
    {
     "name": "stdout",
     "output_type": "stream",
     "text": [
      "wooof\n",
      "1243 None\n"
     ]
    }
   ],
   "source": [
    "myDog=Dog()\n",
    "print('1243',myDog.bark())"
   ]
  },
  {
   "cell_type": "code",
   "execution_count": null,
   "id": "f726c2c3-b247-49c9-bd15-740b1121e976",
   "metadata": {},
   "outputs": [],
   "source": []
  },
  {
   "cell_type": "code",
   "execution_count": null,
   "id": "b78c9512-55c8-4c75-af9e-85cef5abb308",
   "metadata": {},
   "outputs": [],
   "source": []
  }
 ],
 "metadata": {
  "kernelspec": {
   "display_name": "Python 3 (ipykernel)",
   "language": "python",
   "name": "python3"
  },
  "language_info": {
   "codemirror_mode": {
    "name": "ipython",
    "version": 3
   },
   "file_extension": ".py",
   "mimetype": "text/x-python",
   "name": "python",
   "nbconvert_exporter": "python",
   "pygments_lexer": "ipython3",
   "version": "3.12.3"
  },
  "widgets": {
   "application/vnd.jupyter.widget-state+json": {
    "state": {},
    "version_major": 2,
    "version_minor": 0
   }
  }
 },
 "nbformat": 4,
 "nbformat_minor": 5
}
