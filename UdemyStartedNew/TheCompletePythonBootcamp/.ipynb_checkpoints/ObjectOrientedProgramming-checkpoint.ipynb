{
 "cells": [
  {
   "cell_type": "code",
   "execution_count": 1,
   "id": "705db00b-19f9-4259-8ac7-26d8734dc1ee",
   "metadata": {},
   "outputs": [
    {
     "name": "stdout",
     "output_type": "stream",
     "text": [
      "Rahul Rudra\n"
     ]
    }
   ],
   "source": [
    "class Student:\n",
    "    name=\"Rahul Rudra\"\n",
    "\n",
    "stdentName1=Student()\n",
    "print(stdentName1.name)"
   ]
  },
  {
   "cell_type": "code",
   "execution_count": 18,
   "id": "43dc4411-5ff1-49ed-9f3e-9b8badfd31ae",
   "metadata": {},
   "outputs": [
    {
     "ename": "IndentationError",
     "evalue": "unindent does not match any outer indentation level (<string>, line 3)",
     "output_type": "error",
     "traceback": [
      "  \u001b[36mFile \u001b[39m\u001b[32m<string>:3\u001b[39m\n\u001b[31m    \u001b[39m\u001b[31mdef __init__(self,studentAge,studentName):\u001b[39m\n                                              ^\n\u001b[31mIndentationError\u001b[39m\u001b[31m:\u001b[39m unindent does not match any outer indentation level\n"
     ]
    }
   ],
   "source": [
    "class Student1:\n",
    "     institution=\"aSPSC\"\n",
    "    def __init__(self,studentAge,studentName):\n",
    "        self.name=studentName\n",
    "        self.age=studentAge\n",
    "       \n",
    "        \n",
    "    \n",
    "\n",
    "rahul=Student1(28,\"Rahul Rudra\");\n",
    "print(f'The student name is {rahul.name} and age is {rahul.age} {Student1.institution}')"
   ]
  },
  {
   "cell_type": "code",
   "execution_count": 28,
   "id": "9d8b0bea-8fe5-4cbd-92cd-db101a33e432",
   "metadata": {},
   "outputs": [
    {
     "name": "stdout",
     "output_type": "stream",
     "text": [
      "Rahul\n",
      "Hello\n"
     ]
    }
   ],
   "source": [
    "class Student3:\n",
    "    institution =\"SPSC\"\n",
    "    def __init__(self,studentName,studentAge):\n",
    "        self.age=studentAge\n",
    "        self.name=studentName\n",
    "    def welcome(self):\n",
    "        print(\"Hello\")\n",
    "rahul1=Student3(\"Rahul\",23)\n",
    "print(rahul1.name)\n",
    "rahul1.welcome()"
   ]
  },
  {
   "cell_type": "code",
   "execution_count": 46,
   "id": "24f48489-6d8e-4f31-8887-71a503cf9641",
   "metadata": {},
   "outputs": [],
   "source": [
    "class Student:\n",
    "    def __init__(self, subjectName, subjectMarks):\n",
    "        self.subject = subjectName\n",
    "        self.marks = subjectMarks\n",
    "\n",
    "    def average_marks(self):\n",
    "        summation = 0\n",
    "        for value in self.marks:\n",
    "            summation += value\n",
    "        average = summation / len(self.marks)  # Use len(self.marks) for flexibility\n",
    "        print(f'The average is {average}')\n"
   ]
  },
  {
   "cell_type": "code",
   "execution_count": 47,
   "id": "d5700110-5f2d-49c5-906c-e49f752e5db7",
   "metadata": {},
   "outputs": [
    {
     "name": "stdout",
     "output_type": "stream",
     "text": [
      "SB BANK\n",
      "SB BANK\n",
      "Remainning New Balance is 700\n"
     ]
    }
   ],
   "source": [
    "class Account:\n",
    "    def __init__(self,account,balance):\n",
    "        self.accountName=account\n",
    "        self.bankBalance=balance\n",
    "    def debit(self,amount):\n",
    "        self.bankBalance=self.bankBalance-amount\n",
    "        print(f'Remainning New Balance is {self.bankBalance}')\n",
    "        # print(f'Remainning New Balance is {self.remainningBalance()}')\n",
    "    def remainningBalance(self):\n",
    "        return self.bankBalance\n",
    "        \n",
    "acc1=Account(balance=1000,account=\"SB BANK\")\n",
    "print(acc1.accountName)\n",
    "print(acc1.accountName)\n",
    "acc1.debit(300)"
   ]
  },
  {
   "cell_type": "code",
   "execution_count": null,
   "id": "1e41f55c-1b66-441b-a779-97e02c274ecc",
   "metadata": {},
   "outputs": [],
   "source": []
  },
  {
   "cell_type": "code",
   "execution_count": null,
   "id": "892c6745-938c-4851-a7dc-d84067f51e42",
   "metadata": {},
   "outputs": [],
   "source": []
  }
 ],
 "metadata": {
  "kernelspec": {
   "display_name": "Python 3 (ipykernel)",
   "language": "python",
   "name": "python3"
  },
  "language_info": {
   "codemirror_mode": {
    "name": "ipython",
    "version": 3
   },
   "file_extension": ".py",
   "mimetype": "text/x-python",
   "name": "python",
   "nbconvert_exporter": "python",
   "pygments_lexer": "ipython3",
   "version": "3.12.3"
  },
  "widgets": {
   "application/vnd.jupyter.widget-state+json": {
    "state": {},
    "version_major": 2,
    "version_minor": 0
   }
  }
 },
 "nbformat": 4,
 "nbformat_minor": 5
}
