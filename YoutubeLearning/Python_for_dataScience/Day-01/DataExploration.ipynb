{
 "cells": [
  {
   "cell_type": "code",
   "execution_count": 4,
   "id": "4f7dd67b-4705-49a6-937d-d372dedcde54",
   "metadata": {},
   "outputs": [
    {
     "name": "stdout",
     "output_type": "stream",
     "text": [
      "          Name  Age\n",
      "0  Rahul Rudra   21\n"
     ]
    }
   ],
   "source": [
    "import pandas as pd\n",
    "\n",
    "data={\"Name\": [\"Rahul Rudra\"],\n",
    "      \"Age\":[21]}\n",
    "\n",
    "dataFrame=pd.DataFrame(data)\n",
    "\n",
    "print(dataFrame)"
   ]
  },
  {
   "cell_type": "code",
   "execution_count": 6,
   "id": "4d6f7a47-82b2-412f-8406-fe4f7ec3435b",
   "metadata": {},
   "outputs": [
    {
     "ename": "SyntaxError",
     "evalue": "unterminated string literal (detected at line 1) (3203282434.py, line 1)",
     "output_type": "error",
     "traceback": [
      "  \u001b[36mCell\u001b[39m\u001b[36m \u001b[39m\u001b[32mIn[6]\u001b[39m\u001b[32m, line 1\u001b[39m\n\u001b[31m    \u001b[39m\u001b[31mdata1=pd.read_csv(\"F:/5.1_UDEMY+GITHUB/YoutubeLearning/Python_for_dataScience/Datasets-main/datasets-main/pizza_sales/order_details.csv)\u001b[39m\n                      ^\n\u001b[31mSyntaxError\u001b[39m\u001b[31m:\u001b[39m unterminated string literal (detected at line 1)\n"
     ]
    }
   ],
   "source": [
    "data1=pd.read_csv(\"F:/5.1_UDEMY+GITHUB/YoutubeLearning/Python_for_dataScience/Datasets-main/datasets-main/pizza_sales/order_details.csv)"
   ]
  },
  {
   "cell_type": "code",
   "execution_count": 7,
   "id": "652c6ed4-0f5b-4fd2-a531-5776117bda10",
   "metadata": {},
   "outputs": [
    {
     "data": {
      "text/html": [
       "<div>\n",
       "<style scoped>\n",
       "    .dataframe tbody tr th:only-of-type {\n",
       "        vertical-align: middle;\n",
       "    }\n",
       "\n",
       "    .dataframe tbody tr th {\n",
       "        vertical-align: top;\n",
       "    }\n",
       "\n",
       "    .dataframe thead th {\n",
       "        text-align: right;\n",
       "    }\n",
       "</style>\n",
       "<table border=\"1\" class=\"dataframe\">\n",
       "  <thead>\n",
       "    <tr style=\"text-align: right;\">\n",
       "      <th></th>\n",
       "      <th>order_details_id</th>\n",
       "      <th>order_id</th>\n",
       "      <th>pizza_id</th>\n",
       "      <th>quantity</th>\n",
       "    </tr>\n",
       "  </thead>\n",
       "  <tbody>\n",
       "    <tr>\n",
       "      <th>0</th>\n",
       "      <td>1</td>\n",
       "      <td>1</td>\n",
       "      <td>hawaiian_m</td>\n",
       "      <td>1</td>\n",
       "    </tr>\n",
       "    <tr>\n",
       "      <th>1</th>\n",
       "      <td>2</td>\n",
       "      <td>2</td>\n",
       "      <td>classic_dlx_m</td>\n",
       "      <td>1</td>\n",
       "    </tr>\n",
       "    <tr>\n",
       "      <th>2</th>\n",
       "      <td>3</td>\n",
       "      <td>2</td>\n",
       "      <td>five_cheese_l</td>\n",
       "      <td>1</td>\n",
       "    </tr>\n",
       "    <tr>\n",
       "      <th>3</th>\n",
       "      <td>4</td>\n",
       "      <td>2</td>\n",
       "      <td>ital_supr_l</td>\n",
       "      <td>1</td>\n",
       "    </tr>\n",
       "    <tr>\n",
       "      <th>4</th>\n",
       "      <td>5</td>\n",
       "      <td>2</td>\n",
       "      <td>mexicana_m</td>\n",
       "      <td>1</td>\n",
       "    </tr>\n",
       "    <tr>\n",
       "      <th>...</th>\n",
       "      <td>...</td>\n",
       "      <td>...</td>\n",
       "      <td>...</td>\n",
       "      <td>...</td>\n",
       "    </tr>\n",
       "    <tr>\n",
       "      <th>48615</th>\n",
       "      <td>48616</td>\n",
       "      <td>21348</td>\n",
       "      <td>ckn_alfredo_m</td>\n",
       "      <td>1</td>\n",
       "    </tr>\n",
       "    <tr>\n",
       "      <th>48616</th>\n",
       "      <td>48617</td>\n",
       "      <td>21348</td>\n",
       "      <td>four_cheese_l</td>\n",
       "      <td>1</td>\n",
       "    </tr>\n",
       "    <tr>\n",
       "      <th>48617</th>\n",
       "      <td>48618</td>\n",
       "      <td>21348</td>\n",
       "      <td>napolitana_s</td>\n",
       "      <td>1</td>\n",
       "    </tr>\n",
       "    <tr>\n",
       "      <th>48618</th>\n",
       "      <td>48619</td>\n",
       "      <td>21349</td>\n",
       "      <td>mexicana_l</td>\n",
       "      <td>1</td>\n",
       "    </tr>\n",
       "    <tr>\n",
       "      <th>48619</th>\n",
       "      <td>48620</td>\n",
       "      <td>21350</td>\n",
       "      <td>bbq_ckn_s</td>\n",
       "      <td>1</td>\n",
       "    </tr>\n",
       "  </tbody>\n",
       "</table>\n",
       "<p>48620 rows × 4 columns</p>\n",
       "</div>"
      ],
      "text/plain": [
       "       order_details_id  order_id       pizza_id  quantity\n",
       "0                     1         1     hawaiian_m         1\n",
       "1                     2         2  classic_dlx_m         1\n",
       "2                     3         2  five_cheese_l         1\n",
       "3                     4         2    ital_supr_l         1\n",
       "4                     5         2     mexicana_m         1\n",
       "...                 ...       ...            ...       ...\n",
       "48615             48616     21348  ckn_alfredo_m         1\n",
       "48616             48617     21348  four_cheese_l         1\n",
       "48617             48618     21348   napolitana_s         1\n",
       "48618             48619     21349     mexicana_l         1\n",
       "48619             48620     21350      bbq_ckn_s         1\n",
       "\n",
       "[48620 rows x 4 columns]"
      ]
     },
     "execution_count": 7,
     "metadata": {},
     "output_type": "execute_result"
    }
   ],
   "source": [
    "pd.read_csv(\"F:/5.1_UDEMY+GITHUB/YoutubeLearning/Python_for_dataScience/Datasets-main/datasets-main/pizza_sales/order_details.csv\")"
   ]
  },
  {
   "cell_type": "code",
   "execution_count": 11,
   "id": "894dfa38-be34-4f99-bf26-220c0ade6af1",
   "metadata": {},
   "outputs": [
    {
     "ename": "FileNotFoundError",
     "evalue": "[Errno 2] No such file or directory: 'F:/5.1_UDEMY+GITHUB/YoutubeLearning/Python_for_dataScience/Datasets-main/Datasets-main/banking Data'",
     "output_type": "error",
     "traceback": [
      "\u001b[31m---------------------------------------------------------------------------\u001b[39m",
      "\u001b[31mFileNotFoundError\u001b[39m                         Traceback (most recent call last)",
      "\u001b[36mCell\u001b[39m\u001b[36m \u001b[39m\u001b[32mIn[11]\u001b[39m\u001b[32m, line 1\u001b[39m\n\u001b[32m----> \u001b[39m\u001b[32m1\u001b[39m data=\u001b[43mpd\u001b[49m\u001b[43m.\u001b[49m\u001b[43mread_excel\u001b[49m\u001b[43m(\u001b[49m\u001b[33;43m\"\u001b[39;49m\u001b[33;43mF:/5.1_UDEMY+GITHUB/YoutubeLearning/Python_for_dataScience/Datasets-main/Datasets-main/banking Data\u001b[39;49m\u001b[33;43m\"\u001b[39;49m\u001b[43m)\u001b[49m\n",
      "\u001b[36mFile \u001b[39m\u001b[32mC:\\Python312\\Lib\\site-packages\\pandas\\io\\excel\\_base.py:495\u001b[39m, in \u001b[36mread_excel\u001b[39m\u001b[34m(io, sheet_name, header, names, index_col, usecols, dtype, engine, converters, true_values, false_values, skiprows, nrows, na_values, keep_default_na, na_filter, verbose, parse_dates, date_parser, date_format, thousands, decimal, comment, skipfooter, storage_options, dtype_backend, engine_kwargs)\u001b[39m\n\u001b[32m    493\u001b[39m \u001b[38;5;28;01mif\u001b[39;00m \u001b[38;5;129;01mnot\u001b[39;00m \u001b[38;5;28misinstance\u001b[39m(io, ExcelFile):\n\u001b[32m    494\u001b[39m     should_close = \u001b[38;5;28;01mTrue\u001b[39;00m\n\u001b[32m--> \u001b[39m\u001b[32m495\u001b[39m     io = \u001b[43mExcelFile\u001b[49m\u001b[43m(\u001b[49m\n\u001b[32m    496\u001b[39m \u001b[43m        \u001b[49m\u001b[43mio\u001b[49m\u001b[43m,\u001b[49m\n\u001b[32m    497\u001b[39m \u001b[43m        \u001b[49m\u001b[43mstorage_options\u001b[49m\u001b[43m=\u001b[49m\u001b[43mstorage_options\u001b[49m\u001b[43m,\u001b[49m\n\u001b[32m    498\u001b[39m \u001b[43m        \u001b[49m\u001b[43mengine\u001b[49m\u001b[43m=\u001b[49m\u001b[43mengine\u001b[49m\u001b[43m,\u001b[49m\n\u001b[32m    499\u001b[39m \u001b[43m        \u001b[49m\u001b[43mengine_kwargs\u001b[49m\u001b[43m=\u001b[49m\u001b[43mengine_kwargs\u001b[49m\u001b[43m,\u001b[49m\n\u001b[32m    500\u001b[39m \u001b[43m    \u001b[49m\u001b[43m)\u001b[49m\n\u001b[32m    501\u001b[39m \u001b[38;5;28;01melif\u001b[39;00m engine \u001b[38;5;129;01mand\u001b[39;00m engine != io.engine:\n\u001b[32m    502\u001b[39m     \u001b[38;5;28;01mraise\u001b[39;00m \u001b[38;5;167;01mValueError\u001b[39;00m(\n\u001b[32m    503\u001b[39m         \u001b[33m\"\u001b[39m\u001b[33mEngine should not be specified when passing \u001b[39m\u001b[33m\"\u001b[39m\n\u001b[32m    504\u001b[39m         \u001b[33m\"\u001b[39m\u001b[33man ExcelFile - ExcelFile already has the engine set\u001b[39m\u001b[33m\"\u001b[39m\n\u001b[32m    505\u001b[39m     )\n",
      "\u001b[36mFile \u001b[39m\u001b[32mC:\\Python312\\Lib\\site-packages\\pandas\\io\\excel\\_base.py:1550\u001b[39m, in \u001b[36mExcelFile.__init__\u001b[39m\u001b[34m(self, path_or_buffer, engine, storage_options, engine_kwargs)\u001b[39m\n\u001b[32m   1548\u001b[39m     ext = \u001b[33m\"\u001b[39m\u001b[33mxls\u001b[39m\u001b[33m\"\u001b[39m\n\u001b[32m   1549\u001b[39m \u001b[38;5;28;01melse\u001b[39;00m:\n\u001b[32m-> \u001b[39m\u001b[32m1550\u001b[39m     ext = \u001b[43minspect_excel_format\u001b[49m\u001b[43m(\u001b[49m\n\u001b[32m   1551\u001b[39m \u001b[43m        \u001b[49m\u001b[43mcontent_or_path\u001b[49m\u001b[43m=\u001b[49m\u001b[43mpath_or_buffer\u001b[49m\u001b[43m,\u001b[49m\u001b[43m \u001b[49m\u001b[43mstorage_options\u001b[49m\u001b[43m=\u001b[49m\u001b[43mstorage_options\u001b[49m\n\u001b[32m   1552\u001b[39m \u001b[43m    \u001b[49m\u001b[43m)\u001b[49m\n\u001b[32m   1553\u001b[39m     \u001b[38;5;28;01mif\u001b[39;00m ext \u001b[38;5;129;01mis\u001b[39;00m \u001b[38;5;28;01mNone\u001b[39;00m:\n\u001b[32m   1554\u001b[39m         \u001b[38;5;28;01mraise\u001b[39;00m \u001b[38;5;167;01mValueError\u001b[39;00m(\n\u001b[32m   1555\u001b[39m             \u001b[33m\"\u001b[39m\u001b[33mExcel file format cannot be determined, you must specify \u001b[39m\u001b[33m\"\u001b[39m\n\u001b[32m   1556\u001b[39m             \u001b[33m\"\u001b[39m\u001b[33man engine manually.\u001b[39m\u001b[33m\"\u001b[39m\n\u001b[32m   1557\u001b[39m         )\n",
      "\u001b[36mFile \u001b[39m\u001b[32mC:\\Python312\\Lib\\site-packages\\pandas\\io\\excel\\_base.py:1402\u001b[39m, in \u001b[36minspect_excel_format\u001b[39m\u001b[34m(content_or_path, storage_options)\u001b[39m\n\u001b[32m   1399\u001b[39m \u001b[38;5;28;01mif\u001b[39;00m \u001b[38;5;28misinstance\u001b[39m(content_or_path, \u001b[38;5;28mbytes\u001b[39m):\n\u001b[32m   1400\u001b[39m     content_or_path = BytesIO(content_or_path)\n\u001b[32m-> \u001b[39m\u001b[32m1402\u001b[39m \u001b[38;5;28;01mwith\u001b[39;00m \u001b[43mget_handle\u001b[49m\u001b[43m(\u001b[49m\n\u001b[32m   1403\u001b[39m \u001b[43m    \u001b[49m\u001b[43mcontent_or_path\u001b[49m\u001b[43m,\u001b[49m\u001b[43m \u001b[49m\u001b[33;43m\"\u001b[39;49m\u001b[33;43mrb\u001b[39;49m\u001b[33;43m\"\u001b[39;49m\u001b[43m,\u001b[49m\u001b[43m \u001b[49m\u001b[43mstorage_options\u001b[49m\u001b[43m=\u001b[49m\u001b[43mstorage_options\u001b[49m\u001b[43m,\u001b[49m\u001b[43m \u001b[49m\u001b[43mis_text\u001b[49m\u001b[43m=\u001b[49m\u001b[38;5;28;43;01mFalse\u001b[39;49;00m\n\u001b[32m   1404\u001b[39m \u001b[43m\u001b[49m\u001b[43m)\u001b[49m \u001b[38;5;28;01mas\u001b[39;00m handle:\n\u001b[32m   1405\u001b[39m     stream = handle.handle\n\u001b[32m   1406\u001b[39m     stream.seek(\u001b[32m0\u001b[39m)\n",
      "\u001b[36mFile \u001b[39m\u001b[32mC:\\Python312\\Lib\\site-packages\\pandas\\io\\common.py:882\u001b[39m, in \u001b[36mget_handle\u001b[39m\u001b[34m(path_or_buf, mode, encoding, compression, memory_map, is_text, errors, storage_options)\u001b[39m\n\u001b[32m    873\u001b[39m         handle = \u001b[38;5;28mopen\u001b[39m(\n\u001b[32m    874\u001b[39m             handle,\n\u001b[32m    875\u001b[39m             ioargs.mode,\n\u001b[32m   (...)\u001b[39m\u001b[32m    878\u001b[39m             newline=\u001b[33m\"\u001b[39m\u001b[33m\"\u001b[39m,\n\u001b[32m    879\u001b[39m         )\n\u001b[32m    880\u001b[39m     \u001b[38;5;28;01melse\u001b[39;00m:\n\u001b[32m    881\u001b[39m         \u001b[38;5;66;03m# Binary mode\u001b[39;00m\n\u001b[32m--> \u001b[39m\u001b[32m882\u001b[39m         handle = \u001b[38;5;28;43mopen\u001b[39;49m\u001b[43m(\u001b[49m\u001b[43mhandle\u001b[49m\u001b[43m,\u001b[49m\u001b[43m \u001b[49m\u001b[43mioargs\u001b[49m\u001b[43m.\u001b[49m\u001b[43mmode\u001b[49m\u001b[43m)\u001b[49m\n\u001b[32m    883\u001b[39m     handles.append(handle)\n\u001b[32m    885\u001b[39m \u001b[38;5;66;03m# Convert BytesIO or file objects passed with an encoding\u001b[39;00m\n",
      "\u001b[31mFileNotFoundError\u001b[39m: [Errno 2] No such file or directory: 'F:/5.1_UDEMY+GITHUB/YoutubeLearning/Python_for_dataScience/Datasets-main/Datasets-main/banking Data'"
     ]
    }
   ],
   "source": [
    "data=pd.read_excel(\"F:/5.1_UDEMY+GITHUB/YoutubeLearning/Python_for_dataScience/Datasets-main/Datasets-main/banking Data\")"
   ]
  },
  {
   "cell_type": "code",
   "execution_count": 10,
   "id": "7d163943-f274-4e00-bc53-f6f4f2b0ac8d",
   "metadata": {},
   "outputs": [
    {
     "name": "stdout",
     "output_type": "stream",
     "text": [
      "     Client ID              Name  Age  ... Business Lending  Properties Owned Risk Weighting\n",
      "0     PKR81288     Raymond Mills   24  ...     1.134475e+06                 1              2\n",
      "1     PKR65833     Julia Spencer   23  ...     2.000526e+06                 1              3\n",
      "2     PKR47499    Stephen Murray   27  ...     5.481376e+05                 1              3\n",
      "3     PKR72498    Virginia Garza   40  ...     1.148402e+06                 0              4\n",
      "4     PKR60181   Melissa Sanders   46  ...     1.674412e+06                 0              3\n",
      "...        ...               ...  ...  ...              ...               ...            ...\n",
      "2995  PKR66827         Earl Hall   82  ...     1.238860e+06                 1              3\n",
      "2996  PKR40556  Billy Williamson   44  ...     2.771711e+05                 1              2\n",
      "2997  PKR72414      Victor Black   70  ...     5.029472e+05                 2              2\n",
      "2998  PKR46652       Andrew Ford   56  ...     1.538369e+06                 3              1\n",
      "2999  PKR40216        Amy Nguyen   79  ...     3.294125e+05                 1              1\n",
      "\n",
      "[3000 rows x 25 columns]\n"
     ]
    }
   ],
   "source": [
    "import pandas as pd\n",
    "\n",
    "data = pd.read_excel(r\"F:\\5.1_UDEMY+GITHUB\\YoutubeLearning\\Python_for_dataScience\\Datasets-main\\Datasets-main\\banking Data.xlsx\")\n",
    "print(data)\n"
   ]
  },
  {
   "cell_type": "code",
   "execution_count": 13,
   "id": "5a1a8ae9-b3af-4cf0-bd4b-bf593a2663cc",
   "metadata": {},
   "outputs": [
    {
     "name": "stdout",
     "output_type": "stream",
     "text": [
      "     Client ID              Name  Age  ... Business Lending  Properties Owned Risk Weighting\n",
      "0     PKR81288     Raymond Mills   24  ...     1.134475e+06                 1              2\n",
      "1     PKR65833     Julia Spencer   23  ...     2.000526e+06                 1              3\n",
      "2     PKR47499    Stephen Murray   27  ...     5.481376e+05                 1              3\n",
      "3     PKR72498    Virginia Garza   40  ...     1.148402e+06                 0              4\n",
      "4     PKR60181   Melissa Sanders   46  ...     1.674412e+06                 0              3\n",
      "...        ...               ...  ...  ...              ...               ...            ...\n",
      "2995  PKR66827         Earl Hall   82  ...     1.238860e+06                 1              3\n",
      "2996  PKR40556  Billy Williamson   44  ...     2.771711e+05                 1              2\n",
      "2997  PKR72414      Victor Black   70  ...     5.029472e+05                 2              2\n",
      "2998  PKR46652       Andrew Ford   56  ...     1.538369e+06                 3              1\n",
      "2999  PKR40216        Amy Nguyen   79  ...     3.294125e+05                 1              1\n",
      "\n",
      "[3000 rows x 25 columns]\n"
     ]
    }
   ],
   "source": [
    "data = pd.read_excel(\"F:/5.1_UDEMY+GITHUB/YoutubeLearning/Python_for_dataScience/Datasets-main/Datasets-main/banking Data.xlsx\")\n",
    "print(data)"
   ]
  },
  {
   "cell_type": "code",
   "execution_count": 16,
   "id": "5520400a-41ad-4fff-ad8c-407404609dab",
   "metadata": {},
   "outputs": [
    {
     "name": "stdout",
     "output_type": "stream",
     "text": [
      "     Client ID              Name  Age  ... Business Lending  Properties Owned Risk Weighting\n",
      "0     PKR81288     Raymond Mills   24  ...     1.134475e+06                 1              2\n",
      "1     PKR65833     Julia Spencer   23  ...     2.000526e+06                 1              3\n",
      "2     PKR47499    Stephen Murray   27  ...     5.481376e+05                 1              3\n",
      "3     PKR72498    Virginia Garza   40  ...     1.148402e+06                 0              4\n",
      "4     PKR60181   Melissa Sanders   46  ...     1.674412e+06                 0              3\n",
      "...        ...               ...  ...  ...              ...               ...            ...\n",
      "2995  PKR66827         Earl Hall   82  ...     1.238860e+06                 1              3\n",
      "2996  PKR40556  Billy Williamson   44  ...     2.771711e+05                 1              2\n",
      "2997  PKR72414      Victor Black   70  ...     5.029472e+05                 2              2\n",
      "2998  PKR46652       Andrew Ford   56  ...     1.538369e+06                 3              1\n",
      "2999  PKR40216        Amy Nguyen   79  ...     3.294125e+05                 1              1\n",
      "\n",
      "[3000 rows x 25 columns]\n"
     ]
    }
   ],
   "source": [
    "data=pd.read_excel(\"F:/5.1_UDEMY+GITHUB/YoutubeLearning/Python_for_dataScience/Datasets-main/Datasets-main/banking Data.xlsx\")\n",
    "print(data)"
   ]
  },
  {
   "cell_type": "code",
   "execution_count": 17,
   "id": "452b377d-fb0d-40d6-a0d1-14c2941c0d0a",
   "metadata": {},
   "outputs": [
    {
     "name": "stdout",
     "output_type": "stream",
     "text": [
      "  Client ID               Name  Age  ... Business Lending  Properties Owned Risk Weighting\n",
      "0  PKR81288      Raymond Mills   24  ...     1.134475e+06                 1              2\n",
      "1  PKR65833      Julia Spencer   23  ...     2.000526e+06                 1              3\n",
      "2  PKR47499     Stephen Murray   27  ...     5.481376e+05                 1              3\n",
      "3  PKR72498     Virginia Garza   40  ...     1.148402e+06                 0              4\n",
      "4  PKR60181    Melissa Sanders   46  ...     1.674412e+06                 0              3\n",
      "5  PKR78532      Samuel Hudson   23  ...     1.556031e+06                 1              2\n",
      "6  PKR95683  Timothy Alexander   46  ...     1.541116e+05                 1              1\n",
      "7  PKR40785        Carl Martin   78  ...     1.171457e+06                 0              2\n",
      "8  PKR13570         Philip Day   67  ...     4.645603e+05                 0              1\n",
      "9  PKR53299         Jason Sims   51  ...     9.085839e+05                 2              1\n",
      "\n",
      "[10 rows x 25 columns]\n"
     ]
    }
   ],
   "source": [
    "tenData=data.head(10)\n",
    "print(tenData)"
   ]
  },
  {
   "cell_type": "code",
   "execution_count": 18,
   "id": "2b9044e9-918f-4e88-9c6f-da53986ed46c",
   "metadata": {},
   "outputs": [
    {
     "name": "stdout",
     "output_type": "stream",
     "text": [
      "     Client ID              Name  Age  ... Business Lending  Properties Owned Risk Weighting\n",
      "2990  PKR19589       Jane Parker   49  ...     9.138633e+05                 3              2\n",
      "2991  PKR54576       Heather Day   70  ...     3.739861e+05                 2              1\n",
      "2992  PKR47226      Steven Welch   56  ...     6.570552e+05                 1              2\n",
      "2993  PKR33338       Samuel Carr   85  ...     9.234595e+05                 3              3\n",
      "2994  PKR24309   Daniel Marshall   52  ...     1.805960e+05                 3              5\n",
      "2995  PKR66827         Earl Hall   82  ...     1.238860e+06                 1              3\n",
      "2996  PKR40556  Billy Williamson   44  ...     2.771711e+05                 1              2\n",
      "2997  PKR72414      Victor Black   70  ...     5.029472e+05                 2              2\n",
      "2998  PKR46652       Andrew Ford   56  ...     1.538369e+06                 3              1\n",
      "2999  PKR40216        Amy Nguyen   79  ...     3.294125e+05                 1              1\n",
      "\n",
      "[10 rows x 25 columns]\n"
     ]
    }
   ],
   "source": [
    "lastTenData=data.tail(10)\n",
    "print(lastTenData)"
   ]
  },
  {
   "cell_type": "code",
   "execution_count": 19,
   "id": "c560a11c-2688-478e-b9a7-0be110a03a9a",
   "metadata": {},
   "outputs": [
    {
     "name": "stdout",
     "output_type": "stream",
     "text": [
      "<bound method DataFrame.info of      Client ID              Name  Age  ... Business Lending  Properties Owned Risk Weighting\n",
      "0     PKR81288     Raymond Mills   24  ...     1.134475e+06                 1              2\n",
      "1     PKR65833     Julia Spencer   23  ...     2.000526e+06                 1              3\n",
      "2     PKR47499    Stephen Murray   27  ...     5.481376e+05                 1              3\n",
      "3     PKR72498    Virginia Garza   40  ...     1.148402e+06                 0              4\n",
      "4     PKR60181   Melissa Sanders   46  ...     1.674412e+06                 0              3\n",
      "...        ...               ...  ...  ...              ...               ...            ...\n",
      "2995  PKR66827         Earl Hall   82  ...     1.238860e+06                 1              3\n",
      "2996  PKR40556  Billy Williamson   44  ...     2.771711e+05                 1              2\n",
      "2997  PKR72414      Victor Black   70  ...     5.029472e+05                 2              2\n",
      "2998  PKR46652       Andrew Ford   56  ...     1.538369e+06                 3              1\n",
      "2999  PKR40216        Amy Nguyen   79  ...     3.294125e+05                 1              1\n",
      "\n",
      "[3000 rows x 25 columns]>\n"
     ]
    }
   ],
   "source": [
    "print(data.info)"
   ]
  },
  {
   "cell_type": "code",
   "execution_count": 21,
   "id": "4bb67846-4924-4948-a3ad-dc31fe323faa",
   "metadata": {},
   "outputs": [
    {
     "name": "stdout",
     "output_type": "stream",
     "text": [
      "       order_details_id  order_id       pizza_id  quantity\n",
      "0                     1         1     hawaiian_m         1\n",
      "1                     2         2  classic_dlx_m         1\n",
      "2                     3         2  five_cheese_l         1\n",
      "3                     4         2    ital_supr_l         1\n",
      "4                     5         2     mexicana_m         1\n",
      "...                 ...       ...            ...       ...\n",
      "48615             48616     21348  ckn_alfredo_m         1\n",
      "48616             48617     21348  four_cheese_l         1\n",
      "48617             48618     21348   napolitana_s         1\n",
      "48618             48619     21349     mexicana_l         1\n",
      "48619             48620     21350      bbq_ckn_s         1\n",
      "\n",
      "[48620 rows x 4 columns]\n"
     ]
    }
   ],
   "source": [
    "data=pd.read_csv(\"F:/5.1_UDEMY+GITHUB/YoutubeLearning/Python_for_dataScience/Datasets-main/Datasets-main/pizza_sales/order_details.csv\")\n",
    "\n",
    "print(data)"
   ]
  },
  {
   "cell_type": "code",
   "execution_count": 22,
   "id": "a7a18335-577d-4130-b636-b0ab39ffdf44",
   "metadata": {},
   "outputs": [
    {
     "name": "stdout",
     "output_type": "stream",
     "text": [
      "<class 'pandas.core.frame.DataFrame'>\n",
      "RangeIndex: 48620 entries, 0 to 48619\n",
      "Data columns (total 4 columns):\n",
      " #   Column            Non-Null Count  Dtype \n",
      "---  ------            --------------  ----- \n",
      " 0   order_details_id  48620 non-null  int64 \n",
      " 1   order_id          48620 non-null  int64 \n",
      " 2   pizza_id          48620 non-null  object\n",
      " 3   quantity          48620 non-null  int64 \n",
      "dtypes: int64(3), object(1)\n",
      "memory usage: 1.5+ MB\n"
     ]
    }
   ],
   "source": [
    "data.info()"
   ]
  },
  {
   "cell_type": "code",
   "execution_count": 23,
   "id": "5a7756cc-e144-4160-9ea1-5373a832951f",
   "metadata": {},
   "outputs": [
    {
     "data": {
      "text/html": [
       "<div>\n",
       "<style scoped>\n",
       "    .dataframe tbody tr th:only-of-type {\n",
       "        vertical-align: middle;\n",
       "    }\n",
       "\n",
       "    .dataframe tbody tr th {\n",
       "        vertical-align: top;\n",
       "    }\n",
       "\n",
       "    .dataframe thead th {\n",
       "        text-align: right;\n",
       "    }\n",
       "</style>\n",
       "<table border=\"1\" class=\"dataframe\">\n",
       "  <thead>\n",
       "    <tr style=\"text-align: right;\">\n",
       "      <th></th>\n",
       "      <th>order_details_id</th>\n",
       "      <th>order_id</th>\n",
       "      <th>quantity</th>\n",
       "    </tr>\n",
       "  </thead>\n",
       "  <tbody>\n",
       "    <tr>\n",
       "      <th>count</th>\n",
       "      <td>48620.000000</td>\n",
       "      <td>48620.000000</td>\n",
       "      <td>48620.000000</td>\n",
       "    </tr>\n",
       "    <tr>\n",
       "      <th>mean</th>\n",
       "      <td>24310.500000</td>\n",
       "      <td>10701.479761</td>\n",
       "      <td>1.019622</td>\n",
       "    </tr>\n",
       "    <tr>\n",
       "      <th>std</th>\n",
       "      <td>14035.529381</td>\n",
       "      <td>6180.119770</td>\n",
       "      <td>0.143077</td>\n",
       "    </tr>\n",
       "    <tr>\n",
       "      <th>min</th>\n",
       "      <td>1.000000</td>\n",
       "      <td>1.000000</td>\n",
       "      <td>1.000000</td>\n",
       "    </tr>\n",
       "    <tr>\n",
       "      <th>25%</th>\n",
       "      <td>12155.750000</td>\n",
       "      <td>5337.000000</td>\n",
       "      <td>1.000000</td>\n",
       "    </tr>\n",
       "    <tr>\n",
       "      <th>50%</th>\n",
       "      <td>24310.500000</td>\n",
       "      <td>10682.500000</td>\n",
       "      <td>1.000000</td>\n",
       "    </tr>\n",
       "    <tr>\n",
       "      <th>75%</th>\n",
       "      <td>36465.250000</td>\n",
       "      <td>16100.000000</td>\n",
       "      <td>1.000000</td>\n",
       "    </tr>\n",
       "    <tr>\n",
       "      <th>max</th>\n",
       "      <td>48620.000000</td>\n",
       "      <td>21350.000000</td>\n",
       "      <td>4.000000</td>\n",
       "    </tr>\n",
       "  </tbody>\n",
       "</table>\n",
       "</div>"
      ],
      "text/plain": [
       "       order_details_id      order_id      quantity\n",
       "count      48620.000000  48620.000000  48620.000000\n",
       "mean       24310.500000  10701.479761      1.019622\n",
       "std        14035.529381   6180.119770      0.143077\n",
       "min            1.000000      1.000000      1.000000\n",
       "25%        12155.750000   5337.000000      1.000000\n",
       "50%        24310.500000  10682.500000      1.000000\n",
       "75%        36465.250000  16100.000000      1.000000\n",
       "max        48620.000000  21350.000000      4.000000"
      ]
     },
     "execution_count": 23,
     "metadata": {},
     "output_type": "execute_result"
    }
   ],
   "source": [
    "data.describe()"
   ]
  },
  {
   "cell_type": "code",
   "execution_count": 26,
   "id": "0a56fa5c-f160-49e7-b4ed-9b5c4e0ff893",
   "metadata": {},
   "outputs": [
    {
     "name": "stdout",
     "output_type": "stream",
     "text": [
      "Name    0\n",
      "Age     0\n",
      "dtype: int64\n"
     ]
    }
   ],
   "source": [
    "print(dataFrame.isnull().sum())"
   ]
  },
  {
   "cell_type": "code",
   "execution_count": null,
   "id": "3e244d2f-0084-4888-a16b-2a3e0fc205f4",
   "metadata": {},
   "outputs": [],
   "source": []
  }
 ],
 "metadata": {
  "kernelspec": {
   "display_name": "Python 3 (ipykernel)",
   "language": "python",
   "name": "python3"
  },
  "language_info": {
   "codemirror_mode": {
    "name": "ipython",
    "version": 3
   },
   "file_extension": ".py",
   "mimetype": "text/x-python",
   "name": "python",
   "nbconvert_exporter": "python",
   "pygments_lexer": "ipython3",
   "version": "3.12.3"
  },
  "widgets": {
   "application/vnd.jupyter.widget-state+json": {
    "state": {},
    "version_major": 2,
    "version_minor": 0
   }
  }
 },
 "nbformat": 4,
 "nbformat_minor": 5
}
