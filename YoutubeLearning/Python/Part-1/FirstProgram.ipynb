{
 "cells": [
  {
   "cell_type": "code",
   "execution_count": 1,
   "id": "35511d02-544a-4328-946c-51b4306c6b9a",
   "metadata": {},
   "outputs": [
    {
     "name": "stdout",
     "output_type": "stream",
     "text": [
      "My Name is Rahul Rudra\n"
     ]
    }
   ],
   "source": [
    "print(\"My Name is Rahul Rudra\")"
   ]
  },
  {
   "cell_type": "code",
   "execution_count": 3,
   "id": "ad662a75-9221-4b13-a2ad-3736efa1877e",
   "metadata": {},
   "outputs": [
    {
     "name": "stdout",
     "output_type": "stream",
     "text": [
      "My Rahul Rudra is 28\n"
     ]
    }
   ],
   "source": [
    "name=\"Rahul Rudra\"\n",
    "age=28\n",
    "proffession=\"student\"\n",
    "print(f'My {name} is {age}')"
   ]
  },
  {
   "cell_type": "code",
   "execution_count": 3,
   "id": "6d7b0d11-09dd-4e91-b219-437756583efd",
   "metadata": {},
   "outputs": [
    {
     "name": "stdin",
     "output_type": "stream",
     "text": [
      "Enter My name  Rahul\n",
      "Enter My age 23\n"
     ]
    },
    {
     "name": "stdout",
     "output_type": "stream",
     "text": [
      "My name is Rahul and age is 23\n"
     ]
    }
   ],
   "source": [
    "name=input(\"Enter My name \")\n",
    "age=int(input(\"Enter My age\"))\n",
    "myDescription=print(f'My name is {name} and age is {age}')"
   ]
  },
  {
   "cell_type": "code",
   "execution_count": null,
   "id": "39686caf-e3f8-4c29-a5c0-63e940f4bfc5",
   "metadata": {},
   "outputs": [],
   "source": []
  }
 ],
 "metadata": {
  "kernelspec": {
   "display_name": "Python 3 (ipykernel)",
   "language": "python",
   "name": "python3"
  },
  "language_info": {
   "codemirror_mode": {
    "name": "ipython",
    "version": 3
   },
   "file_extension": ".py",
   "mimetype": "text/x-python",
   "name": "python",
   "nbconvert_exporter": "python",
   "pygments_lexer": "ipython3",
   "version": "3.12.3"
  },
  "widgets": {
   "application/vnd.jupyter.widget-state+json": {
    "state": {},
    "version_major": 2,
    "version_minor": 0
   }
  }
 },
 "nbformat": 4,
 "nbformat_minor": 5
}
