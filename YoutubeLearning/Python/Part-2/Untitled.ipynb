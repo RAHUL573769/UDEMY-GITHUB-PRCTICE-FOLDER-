{
 "cells": [
  {
   "cell_type": "code",
   "execution_count": 1,
   "id": "aa219984-3063-4b36-b167-62f3c092ff3e",
   "metadata": {},
   "outputs": [],
   "source": [
    "marks1=22\n",
    "marks2=45\n",
    "marks3=67\n",
    "marks4=100\n",
    "\n",
    "marks=[\"karan\",12,67]\n",
    "\n",
    "\n",
    "\n"
   ]
  },
  {
   "cell_type": "code",
   "execution_count": 3,
   "id": "fd78f5a5-d7d2-4244-b6c8-1b7ce40934b8",
   "metadata": {},
   "outputs": [
    {
     "name": "stdout",
     "output_type": "stream",
     "text": [
      "{'key': 'value', 'name': 'Rahul Rudr', 'age': 23, 'marks': [56, 45, 78]}\n"
     ]
    }
   ],
   "source": [
    "info={\n",
    "\n",
    "\"key\": \"value\",\n",
    "\"name\": \"Rahul Rudr\",\n",
    "    \"age\":23,\n",
    "    \"marks\":[56,45,78]\n",
    "}\n",
    "\n",
    "\n",
    "print(info)"
   ]
  },
  {
   "cell_type": "code",
   "execution_count": 4,
   "id": "3edd69dd-e802-4035-9e90-f5cd44f4a1e4",
   "metadata": {},
   "outputs": [
    {
     "name": "stdout",
     "output_type": "stream",
     "text": [
      "{'key': 'value', 'name': 'Rahul Rudr', 'age': 23, 'marks': [56, 45, 78], 'profession': 'student'}\n"
     ]
    }
   ],
   "source": [
    "info[\"profession\"]=\"student\"\n",
    "print(info)"
   ]
  },
  {
   "cell_type": "code",
   "execution_count": 5,
   "id": "428e5887-ad59-4e86-a67f-0e8452cdebc5",
   "metadata": {},
   "outputs": [
    {
     "name": "stdout",
     "output_type": "stream",
     "text": [
      "None\n"
     ]
    }
   ],
   "source": [
    "student={\n",
    "\n",
    "    \"name\": \"Rahul Rudra\",\n",
    "    \"age\":3\n",
    "}\n",
    "print(student.get(\"name2\"))"
   ]
  },
  {
   "cell_type": "code",
   "execution_count": 6,
   "id": "bef432ab-2a40-432b-b560-f3ae46d32bd2",
   "metadata": {},
   "outputs": [],
   "source": [
    "set1={1,2,3,4,5}\n",
    "set1.add(1)"
   ]
  },
  {
   "cell_type": "code",
   "execution_count": 7,
   "id": "5a632d7d-efa6-4a3c-91e4-3e1871562505",
   "metadata": {},
   "outputs": [
    {
     "name": "stdout",
     "output_type": "stream",
     "text": [
      "{1, 2, 3, 4, 5}\n"
     ]
    }
   ],
   "source": [
    "print(set1)"
   ]
  },
  {
   "cell_type": "code",
   "execution_count": null,
   "id": "dff8c7c6-b022-48c1-853c-b5f21b4e3801",
   "metadata": {},
   "outputs": [],
   "source": [
    "dictionary={\n",
    "\n",
    "    \n",
    "}"
   ]
  }
 ],
 "metadata": {
  "kernelspec": {
   "display_name": "Python 3 (ipykernel)",
   "language": "python",
   "name": "python3"
  },
  "language_info": {
   "codemirror_mode": {
    "name": "ipython",
    "version": 3
   },
   "file_extension": ".py",
   "mimetype": "text/x-python",
   "name": "python",
   "nbconvert_exporter": "python",
   "pygments_lexer": "ipython3",
   "version": "3.12.3"
  },
  "widgets": {
   "application/vnd.jupyter.widget-state+json": {
    "state": {},
    "version_major": 2,
    "version_minor": 0
   }
  }
 },
 "nbformat": 4,
 "nbformat_minor": 5
}
