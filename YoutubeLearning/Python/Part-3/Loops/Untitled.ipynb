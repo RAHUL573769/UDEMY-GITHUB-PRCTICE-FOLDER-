{
 "cells": [
  {
   "cell_type": "code",
   "execution_count": 1,
   "id": "c23e6002-ce8a-4c6a-9bf7-27808412c673",
   "metadata": {},
   "outputs": [
    {
     "name": "stdout",
     "output_type": "stream",
     "text": [
      "hello -world\n",
      "hello -world\n",
      "hello -world\n",
      "hello -world\n"
     ]
    }
   ],
   "source": [
    "print(\"hello -world\")\n",
    "print(\"hello -world\")\n",
    "print(\"hello -world\")\n",
    "print(\"hello -world\")"
   ]
  },
  {
   "cell_type": "code",
   "execution_count": null,
   "id": "048a7240-7f7e-4d3c-8244-fba1dd7f97bf",
   "metadata": {},
   "outputs": [],
   "source": [
    "while True:\n",
    "    print(\"hello world\")"
   ]
  },
  {
   "cell_type": "code",
   "execution_count": 3,
   "id": "e115427e-f1f1-4e3c-ab25-5d07d6f86798",
   "metadata": {},
   "outputs": [
    {
     "name": "stdout",
     "output_type": "stream",
     "text": [
      "Hello-world\n",
      "Hello-world\n",
      "Hello-world\n",
      "Hello-world\n",
      "Hello-world\n"
     ]
    }
   ],
   "source": [
    "count=1\n",
    "while count<=5:\n",
    "    print(\"Hello-world\")\n",
    "    count=count+1"
   ]
  },
  {
   "cell_type": "code",
   "execution_count": 9,
   "id": "f025033a-dc1e-4b96-81c2-8fe495434b78",
   "metadata": {},
   "outputs": [
    {
     "name": "stdout",
     "output_type": "stream",
     "text": [
      "1\n",
      "2\n",
      "3\n",
      "4\n",
      "5\n"
     ]
    }
   ],
   "source": [
    "i=1\n",
    "while i<=5:\n",
    "    print(i)\n",
    "    i=i+1\n",
    "    \n",
    "    "
   ]
  },
  {
   "cell_type": "code",
   "execution_count": null,
   "id": "87be5be5-1cdb-4ad7-8619-935a585d2a4b",
   "metadata": {},
   "outputs": [],
   "source": []
  }
 ],
 "metadata": {
  "kernelspec": {
   "display_name": "Python 3 (ipykernel)",
   "language": "python",
   "name": "python3"
  },
  "language_info": {
   "codemirror_mode": {
    "name": "ipython",
    "version": 3
   },
   "file_extension": ".py",
   "mimetype": "text/x-python",
   "name": "python",
   "nbconvert_exporter": "python",
   "pygments_lexer": "ipython3",
   "version": "3.12.3"
  },
  "widgets": {
   "application/vnd.jupyter.widget-state+json": {
    "state": {},
    "version_major": 2,
    "version_minor": 0
   }
  }
 },
 "nbformat": 4,
 "nbformat_minor": 5
}
