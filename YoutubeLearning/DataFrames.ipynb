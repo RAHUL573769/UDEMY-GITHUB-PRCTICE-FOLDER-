{
 "cells": [
  {
   "cell_type": "code",
   "execution_count": 3,
   "id": "a333c8dd-b21a-472f-b594-196b31c7c3af",
   "metadata": {},
   "outputs": [
    {
     "ename": "ModuleNotFoundError",
     "evalue": "No module named 'pandas'",
     "output_type": "error",
     "traceback": [
      "\u001b[31m---------------------------------------------------------------------------\u001b[39m",
      "\u001b[31mModuleNotFoundError\u001b[39m                       Traceback (most recent call last)",
      "\u001b[36mCell\u001b[39m\u001b[36m \u001b[39m\u001b[32mIn[3]\u001b[39m\u001b[32m, line 1\u001b[39m\n\u001b[32m----> \u001b[39m\u001b[32m1\u001b[39m \u001b[38;5;28;01mimport\u001b[39;00m\u001b[38;5;250m \u001b[39m\u001b[34;01mpandas\u001b[39;00m\u001b[38;5;250m \u001b[39m\u001b[38;5;28;01mas\u001b[39;00m\u001b[38;5;250m \u001b[39m\u001b[34;01mpd\u001b[39;00m\n",
      "\u001b[31mModuleNotFoundError\u001b[39m: No module named 'pandas'"
     ]
    }
   ],
   "source": [
    "import pandas as pd\n",
    "\n"
   ]
  },
  {
   "cell_type": "code",
   "execution_count": 14,
   "id": "6a33870d-11a5-4934-a124-875644c2d9f2",
   "metadata": {},
   "outputs": [
    {
     "name": "stdout",
     "output_type": "stream",
     "text": [
      "    Name  Age  Salary\n",
      "0   John   23    4500\n",
      "1  Peter   78    1334\n"
     ]
    }
   ],
   "source": [
    "import pandas as pd\n",
    "\n",
    "data = {\n",
    "    \"Name\": [\"John\", \"Peter\"],\n",
    "    \"Age\": [23, 78],\n",
    "    \"Salary\": [4500, 1334]\n",
    "}\n",
    "\n",
    "dataFrame = pd.DataFrame(data)\n",
    "print(dataFrame)\n"
   ]
  },
  {
   "cell_type": "code",
   "execution_count": 19,
   "id": "51f44973-38b1-4a52-a930-9b3a63c61061",
   "metadata": {},
   "outputs": [
    {
     "name": "stdout",
     "output_type": "stream",
     "text": [
      "    Name1  Age\n",
      "0  Rahul1   21\n"
     ]
    }
   ],
   "source": [
    "import pandas as pd\n",
    "\n",
    "data={\n",
    "\n",
    "    \"Name1\":[\"Rahul1\"],\n",
    "    \"Age\":[21]\n",
    "}\n",
    "data_frame1=pd.DataFrame(data)\n",
    "print(data_frame1)"
   ]
  },
  {
   "cell_type": "code",
   "execution_count": 22,
   "id": "5b28bbeb-f34d-4555-ba70-e47e63312208",
   "metadata": {},
   "outputs": [
    {
     "name": "stdout",
     "output_type": "stream",
     "text": [
      "      Calories  Protein   Fat  Carbs  Fibre  Unnamed: 5  \\\n",
      "0           73      2.0   NaN   16.0    0.4         NaN   \n",
      "1          129      3.0   NaN   29.0    0.1         NaN   \n",
      "2           45      1.0   1.0    7.0    0.2         NaN   \n",
      "3          206      2.0   4.0   39.0    1.8         NaN   \n",
      "4          296      2.0  14.0   43.0    2.0         NaN   \n",
      "...        ...      ...   ...    ...    ...         ...   \n",
      "1089        22      2.0   NaN    4.0    2.4         NaN   \n",
      "1090        63      3.0   NaN   13.0    2.8         NaN   \n",
      "1091        51      3.0   NaN   11.0    2.7         NaN   \n",
      "1092         6      NaN   NaN    1.0    0.4         NaN   \n",
      "1093        15      1.0   NaN    4.0    1.3         NaN   \n",
      "\n",
      "      Note: Protein, Fat, Carbs, Fibre, are measured in grams  \n",
      "0                                                   NaN        \n",
      "1                                                   NaN        \n",
      "2                                                   NaN        \n",
      "3                                                   NaN        \n",
      "4                                                   NaN        \n",
      "...                                                 ...        \n",
      "1089                                                NaN        \n",
      "1090                                                NaN        \n",
      "1091                                                NaN        \n",
      "1092                                                NaN        \n",
      "1093                                                NaN        \n",
      "\n",
      "[1094 rows x 7 columns]\n"
     ]
    },
    {
     "name": "stderr",
     "output_type": "stream",
     "text": [
      "<>:2: SyntaxWarning: invalid escape sequence '\\Y'\n",
      "<>:2: SyntaxWarning: invalid escape sequence '\\Y'\n",
      "C:\\Users\\Rahul Rudra\\AppData\\Local\\Temp\\ipykernel_14976\\2235094655.py:2: SyntaxWarning: invalid escape sequence '\\Y'\n",
      "  data=pd.read_csv(\"F:/5.1_UDEMY+GITHUB\\YoutubeLearning/Python_for_dataScience/Datasets-main/Datasets-main/food_data.csv\")\n"
     ]
    }
   ],
   "source": [
    "\n",
    "import pandas as pd\n",
    "data=pd.read_csv(\"F:/5.1_UDEMY+GITHUB\\YoutubeLearning/Python_for_dataScience/Datasets-main/Datasets-main/food_data.csv\")\n",
    "print(data)"
   ]
  },
  {
   "cell_type": "code",
   "execution_count": null,
   "id": "f966e12c-d38c-4b95-9b23-8bb79d66aec7",
   "metadata": {},
   "outputs": [],
   "source": []
  }
 ],
 "metadata": {
  "kernelspec": {
   "display_name": "Python 3 (ipykernel)",
   "language": "python",
   "name": "python3"
  },
  "language_info": {
   "codemirror_mode": {
    "name": "ipython",
    "version": 3
   },
   "file_extension": ".py",
   "mimetype": "text/x-python",
   "name": "python",
   "nbconvert_exporter": "python",
   "pygments_lexer": "ipython3",
   "version": "3.12.3"
  },
  "widgets": {
   "application/vnd.jupyter.widget-state+json": {
    "state": {},
    "version_major": 2,
    "version_minor": 0
   }
  }
 },
 "nbformat": 4,
 "nbformat_minor": 5
}
